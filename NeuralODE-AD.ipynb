{
 "cells": [
  {
   "cell_type": "code",
   "execution_count": 1,
   "metadata": {
    "id": "z7DCVdP1EpXa"
   },
   "outputs": [],
   "source": [
    "using ComponentArrays, Lux, DiffEqFlux, OrdinaryDiffEq, Optimization, OptimizationOptimJL,\n",
    "      OptimizationOptimisers, Random, Plots\n",
    "using ArrheniusModel\n",
    "using RecursiveArrayTools\n",
    "using Statistics\n",
    "using Enzyme"
   ]
  },
  {
   "cell_type": "code",
   "execution_count": 3,
   "metadata": {},
   "outputs": [
    {
     "data": {
      "text/plain": [
       "\"2024-10-02_23-29-22\""
      ]
     },
     "metadata": {},
     "output_type": "display_data"
    }
   ],
   "source": [
    "using Dates\n",
    "timestamp = Dates.format(now(), \"yyyy-mm-dd_HH-MM-SS\")"
   ]
  },
  {
   "cell_type": "code",
   "execution_count": 7,
   "metadata": {},
   "outputs": [
    {
     "data": {
      "text/plain": [
       "PhaseEnergies([1.0, 0.0], [0.0 0.2; 0.2 0.0], [0.0 0.2; 1.2 0.0])"
      ]
     },
     "metadata": {},
     "output_type": "display_data"
    }
   ],
   "source": [
    "# example from tests\n",
    "G = [1.0,0.0]\n",
    "Ea = [0. 0.2; 0.2 0.]\n",
    "pe = PhaseEnergies(G, Ea)"
   ]
  },
  {
   "cell_type": "code",
   "execution_count": 8,
   "metadata": {},
   "outputs": [
    {
     "data": {
      "text/plain": [
       "2×2 Matrix{Float64}:\n",
       "  0.0168865  -0.0168865\n",
       " -0.0         0.0"
      ]
     },
     "metadata": {},
     "output_type": "display_data"
    }
   ],
   "source": [
    "# try forward mode without the struct first\n",
    "# this will give the derivative of each element of the output matrix wrt the 1,2 element of the input\n",
    "db = Array(zero(pe.barriers))\n",
    "db[1,2] = 1.0\n",
    "g12 = Enzyme.autodiff(Forward, arrhenius_rate, Duplicated(pe.barriers, db))[1]\n",
    "# (convince yourself that this gives the right result)"
   ]
  },
  {
   "cell_type": "code",
   "execution_count": null,
   "metadata": {},
   "outputs": [],
   "source": [
    "db = Array(zero(pe.barriers))\n",
    "db[2,2] = 1.0\n",
    "g22 = Enzyme.autodiff(Forward, arrhenius_rate, Duplicated, Duplicated(pe.barriers, db))[2]\n"
   ]
  },
  {
   "cell_type": "code",
   "execution_count": 2,
   "metadata": {},
   "outputs": [
    {
     "name": "stdout",
     "output_type": "stream",
     "text": [
      "Ksize: (6, 7) Tsize: (6, 7) fsize: (6, 7)\n"
     ]
    }
   ],
   "source": [
    "rng = Xoshiro(0)\n",
    "G = [-5.92, -5.942, -5.97]\n",
    "Ea = [0.00 1.00 0.01; 1.00 0.00 1.00; 0.01 1.00 0.00]\n",
    "pe = PhaseEnergies(G, Ea)\n",
    "T_range = 300.0 : 50.0 : 600.0\n",
    "flow_rates = 0.5 : 0.2 : 1.5\n",
    "T_grid, f_grid = meshgrid(T_range, flow_rates)\n",
    "K = [arrhenius_rate(pe.barriers, T) for T in T_grid]\n",
    "println(\"Ksize: \", size(K), \" Tsize: \", size(T_grid), \" fsize: \", size(f_grid))"
   ]
  },
  {
   "cell_type": "code",
   "execution_count": 5,
   "metadata": {},
   "outputs": [
    {
     "name": "stdout",
     "output_type": "stream",
     "text": [
      "c0: (21, 3, 6, 7)\n"
     ]
    }
   ],
   "source": [
    "t= 10\n",
    "dt = 0.05\n",
    "datasize = Int(t/0.5+1)\n",
    "num_steps = floor(Int, t/dt)\n",
    "num_layers = floor(Int, t/0.5)+1\n",
    "n = n_phases(pe)\n",
    "c0 = zeros(num_layers, n, size(T_grid)...)\n",
    "c0[1, 1, :, :] .= 1.0\n",
    "j = 0\n",
    "j0 = 0\n",
    "tspan = (0.0, (num_steps-1) * dt)\n",
    "tsteps = range(tspan[1], tspan[2]; length = datasize)\n",
    "println(\"c0: \", size(c0))"
   ]
  },
  {
   "cell_type": "code",
   "execution_count": 6,
   "metadata": {},
   "outputs": [
    {
     "data": {
      "text/plain": [
       "6×7 Matrix{Vector{Float64}}:\n",
       " [0.0, 0.0, 0.0, 0.0, 0.0, 0.0, 0.0, 0.0, 0.0, 0.0  …  0.99994, 0.999935, 0.99993, 0.999925, 0.99992, 0.999915, 0.99991, 0.999905, 0.9999, 0.999895]       …  [0.0, 0.0, 0.0, 0.0, 0.0, 0.0, 0.0, 0.0, 0.0, 0.0  …  0.99994, 0.999935, 0.99993, 0.999925, 0.99992, 0.999915, 0.99991, 0.999905, 0.9999, 0.999895]\n",
       " [0.0, 0.0, 0.0, 0.0, 0.0, 0.0, 0.0, 0.0, 0.0, 0.0  …  0.999916, 0.999909, 0.999902, 0.999895, 0.999888, 0.999881, 0.999874, 0.999867, 0.99986, 0.999853]     [0.0, 0.0, 0.0, 0.0, 0.0, 0.0, 0.0, 0.0, 0.0, 0.0  …  0.999916, 0.999909, 0.999902, 0.999895, 0.999888, 0.999881, 0.999874, 0.999867, 0.99986, 0.999853]\n",
       " [0.0, 0.0, 0.0, 0.0, 0.0, 0.0, 0.0, 0.0, 0.0, 0.0  …  0.999892, 0.999883, 0.999874, 0.999865, 0.999856, 0.999847, 0.999838, 0.999829, 0.99982, 0.999811]     [0.0, 0.0, 0.0, 0.0, 0.0, 0.0, 0.0, 0.0, 0.0, 0.0  …  0.999892, 0.999883, 0.999874, 0.999865, 0.999856, 0.999847, 0.999838, 0.999829, 0.99982, 0.999811]\n",
       " [0.0, 0.0, 0.0, 0.0, 0.0, 0.0, 0.0, 0.0, 0.0, 0.0  …  0.999868, 0.999857, 0.999846, 0.999835, 0.999824, 0.999813, 0.999802, 0.999791, 0.99978, 0.999769]     [0.0, 0.0, 0.0, 0.0, 0.0, 0.0, 0.0, 0.0, 0.0, 0.0  …  0.999868, 0.999857, 0.999846, 0.999835, 0.999824, 0.999813, 0.999802, 0.999791, 0.99978, 0.999769]\n",
       " [0.0, 0.0, 0.0, 0.0, 0.0, 0.0, 0.0, 0.0, 0.0, 0.0  …  0.999844, 0.999831, 0.999818, 0.999805, 0.999792, 0.999779, 0.999766, 0.999753, 0.99974, 0.999727]     [0.0, 0.0, 0.0, 0.0, 0.0, 0.0, 0.0, 0.0, 0.0, 0.0  …  0.999844, 0.999831, 0.999818, 0.999805, 0.999792, 0.999779, 0.999766, 0.999753, 0.99974, 0.999727]\n",
       " [0.0, 0.0, 0.0, 0.0, 0.0, 0.0, 0.0, 0.0, 0.0, 0.0  …  0.99982, 0.999805, 0.99979, 0.999775, 0.99976, 0.999745, 0.99973, 0.999715, 0.9997, 0.999685]       …  [0.0, 0.0, 0.0, 0.0, 0.0, 0.0, 0.0, 0.0, 0.0, 0.0  …  0.99982, 0.999805, 0.99979, 0.999775, 0.99976, 0.999745, 0.99973, 0.999715, 0.9997, 0.999685]"
      ]
     },
     "metadata": {},
     "output_type": "display_data"
    }
   ],
   "source": [
    "\n",
    "decay_coefficients = 0.00001 * f_grid\n",
    "fcoeff = flow_coefficient.(\"exponential\", num_layers, decay_coefficients)\n",
    "p = (fcoeff, j0, j, dt, num_steps, num_layers, K, T_grid)\n",
    "fcoeff"
   ]
  },
  {
   "cell_type": "code",
   "execution_count": null,
   "metadata": {
    "id": "WXdlKjWZEpXc",
    "outputId": "9f256001-54f4-44ba-8e7a-6dc59ff85ba1"
   },
   "outputs": [],
   "source": [
    "function deposition_rates!(dc, c, p, t)\n",
    "    # Unpack parameters\n",
    "    fcoeff, j0, j, dt, num_steps, num_layers, K, T_grid= p\n",
    "    # Calculate deposition rates\n",
    "    j = floor(Int, t / 0.5) + 1\n",
    "    f = reverse.(fcoeff[j: num_layers+j-1,:,:])\n",
    "    dc .= c .* f * K\n",
    "    if j != j0\n",
    "        c[j+1, 1] = 1.0\n",
    "        j = j0\n",
    "    end\n",
    "end\n",
    "\n",
    "prob = ODEProblem(deposition_rates!, c0, tspan, p)\n",
    "ode_data = Array(solve(prob, Euler(), saveat = 0.5, dt = dt)) #Training data\n",
    "\n",
    "ode_data_avg = mean(ode_data, dims=1)\n",
    "ode_data_avg = reshape(ode_data_avg, (3, 21))\n",
    "ode_data"
   ]
  },
  {
   "cell_type": "code",
   "execution_count": null,
   "metadata": {},
   "outputs": [],
   "source": [
    "\n",
    "\n",
    "function ODE_calculation(barriers=pe.barriers, T=T, prob=prob)\n",
    "    K = arrhenius_rate(barriers, T)\n",
    "    ode_data = Array(solve(prob, Euler(), saveat = 0.5, dt = 0.05))\n",
    "    return ode_data[:,:,end]\n",
    "end\n",
    "\n",
    "ODE_calculation(pe.barriers, T)"
   ]
  },
  {
   "cell_type": "code",
   "execution_count": null,
   "metadata": {},
   "outputs": [],
   "source": [
    "db = Array(zero(pe.barriers))\n",
    "dT = 1.0\n",
    "godeT = Enzyme.autodiff(Forward,\n",
    " ODE_calculation,\n",
    " Duplicated(pe.barriers, db), \n",
    " Duplicated(T,dT), \n",
    " Const(prob))[1]\n",
    "end"
   ]
  },
  {
   "cell_type": "code",
   "execution_count": null,
   "metadata": {},
   "outputs": [],
   "source": [
    "function simple_ode!(du, u, p, t)\n",
    "    a = p[1]\n",
    "    du[1] = -a * u[1]\n",
    "end\n",
    "\n",
    "# Define the ODE calculation function\n",
    "function ODE_calculation(u0, p, tspan)\n",
    "    prob = ODEProblem(simple_ode!, u0, tspan, p)\n",
    "    sol = solve(prob, Tsit5())\n",
    "    return sol[end] \n",
    "end\n",
    "# Define the parameters and initial conditions\n",
    "u0 = [1.0]  # Initial condition\n",
    "a = 2.0     # Parameter\n",
    "p = [a]\n",
    "tspan = (0.0, 1.0)\n",
    "\n",
    "# Compute the sensitivity with respect to the parameter 'a' using Enzyme.autodiff\n",
    "da = 1.0  # Perturbation for parameter 'a'\n",
    "sensitivity = Enzyme.autodiff(Forward, ODE_calculation, Const(u0), Const(p), Const(tspan))\n",
    "\n",
    "println(\"Sensitivity with respect to parameter 'a': \", sensitivity)"
   ]
  },
  {
   "cell_type": "code",
   "execution_count": null,
   "metadata": {},
   "outputs": [],
   "source": [
    "ode_data_avg"
   ]
  },
  {
   "cell_type": "code",
   "execution_count": null,
   "metadata": {
    "id": "0iWw3IurEpXc",
    "outputId": "227c4fa3-42f0-464c-995b-4479fbc008ad"
   },
   "outputs": [],
   "source": [
    "inputs = [T, flow_rate]\n",
    "input_size = length(inputs)  # Replace with the actual size of `inputs` if it's not a 1D vector\n",
    "Ea_size = (n ^ 2 - n) ÷ 2\n",
    "fcoeff_size = length(fcoeff) #sigmoid 0~1\n",
    "precoeff_size = 1\n",
    "output_size = Ea_size + fcoeff_size + precoeff_size\n",
    "nn = Chain(\n",
    "    Dense(input_size, input_size*3*n, tanh),\n",
    "    Dense(input_size*3*n, output_size*2, tanh),\n",
    "    Dense(output_size*2, output_size, sigmoid)\n",
    ")\n",
    "#Combine activation functions and setup constraints\n",
    "#Normalize the input\n"
   ]
  },
  {
   "cell_type": "code",
   "execution_count": null,
   "metadata": {
    "id": "QBw5KC5REpXd",
    "outputId": "f4f10053-d450-4a2a-8c17-a104ae37e845"
   },
   "outputs": [],
   "source": [
    "#For debugging\n",
    "\n",
    "dp, dst = Lux.setup(rng, nn)\n",
    "model_debug = Lux.Experimental.@debug_mode nn\n",
    "\n",
    "try\n",
    "    model_debug(inputs, dp, dst)\n",
    "catch e\n",
    "    println(e)\n",
    "end"
   ]
  },
  {
   "cell_type": "code",
   "execution_count": null,
   "metadata": {
    "id": "yOtQ2ymfEpXd",
    "outputId": "8847bb1e-92a1-4025-c79d-946f89d5aefb"
   },
   "outputs": [],
   "source": [
    "p, st = Lux.setup(rng, nn)"
   ]
  },
  {
   "cell_type": "code",
   "execution_count": null,
   "metadata": {},
   "outputs": [],
   "source": [
    "println(j,j0,c0)"
   ]
  },
  {
   "cell_type": "code",
   "execution_count": null,
   "metadata": {
    "id": "vDvqbhx6EpXd",
    "outputId": "20d00608-ac6e-45db-f58e-cadeaa324db8"
   },
   "outputs": [],
   "source": [
    "function model_rates!(du, u, p, t)\n",
    "    # Unpack parameters\n",
    "    p_pe, p_fcoeff, p_precoeff = p\n",
    "    # Calculate deposition rates\n",
    "    j = floor(Int, t / 0.5) + 1\n",
    "    f = reverse(p_fcoeff[j: num_layers+j-1])\n",
    "    du .= p_precoeff * u .* f * p_pe.K\n",
    "    if j != j0\n",
    "        u[j+1, 1] = 1.0\n",
    "        j = j0\n",
    "    end\n",
    "end\n",
    "\n",
    "function predict_neuralode(p)\n",
    "    # Get parameters from the neural network\n",
    "    inputs = [0.1, flow_rate] #Normalize 300K to 0.1 at this time point\n",
    "    output, outst = nn(inputs, p, st)\n",
    "\n",
    "    # Segregate the output\n",
    "    pp_Ea = output[1:Ea_size]\n",
    "    p_Ea = zeros(n, n)\n",
    "    index = 1\n",
    "    for i in 1:n\n",
    "        for j in i+1:n\n",
    "            p_Ea[i, j] = pp_Ea[index]\n",
    "            p_Ea[j, i] = pp_Ea[index]\n",
    "            index += 1\n",
    "        end\n",
    "    end\n",
    "    p_fcoeff = output[Ea_size+1:Ea_size+fcoeff_size]\n",
    "    p_precoeff = output[end]  # The last element\n",
    "    p_pe = PhaseEnergies(G, p_Ea)\n",
    "    # Amorphous phase goes to zero\n",
    "    nn_output = (p_pe, p_fcoeff, p_precoeff)\n",
    "    arrhenius_rate(p_pe, T)\n",
    "\n",
    "    # Define the ODE problem with the parameters from the neural network\n",
    "    prob = ODEProblem(model_rates!, c0, tspan, nn_output)\n",
    "\n",
    "    # Solve the ODE\n",
    "    sol = solve(prob, Euler(), saveat = 0.5, dt = dt)\n",
    "    return Array(sol)\n",
    "end\n",
    "\n",
    "function loss_neuralode(p)\n",
    "    pred = predict_neuralode(p)\n",
    "    loss = sum(abs2, ode_data .- pred)\n",
    "    return loss, pred\n",
    "end\n",
    "\n",
    "T = 300.0  # Example temperature\n",
    "flow_rate = 1.0  # Example flow rate\n",
    "#ps = T, flow_rate, p, st, ode_data\n",
    "# Predict using the NeuralODE\n",
    "pred = predict_neuralode(p)\n",
    "println(\"Training data: \", size(ode_data))\n",
    "println(\"Prediction:\", size(pred))\n",
    "println(\"Training size: \", size(ode_data[:, :, 1]))\n",
    "println(pred[:, :, 4])\n",
    "println(\"prediction size: \", size(pred[:, :, 1]))\n",
    "#!!Instability happens at 4th timestep since the weights are randomly initialized (num too large)\n",
    "\n",
    "# Calculate loss\n",
    "loss, pred = loss_neuralode(p)\n",
    "\n",
    "println(\"Loss: \", loss)\n",
    "println(\"Prediction: \", pred)"
   ]
  },
  {
   "cell_type": "code",
   "execution_count": null,
   "metadata": {},
   "outputs": [],
   "source": [
    "println(size(ode_data[:,1,:]), ode_data[:,1,:])\n",
    "println(size(ode_data))\n",
    "#Average the ode_data to get the average concentration of each phase at every timestep\n",
    "ode_data_avg = mean(ode_data, dims=1)\n",
    "ode_data_avg = reshape(ode_data_avg, (3, 21))\n",
    "println(size(ode_data_avg))\n",
    "display(ode_data_avg[:,:])"
   ]
  },
  {
   "cell_type": "code",
   "execution_count": null,
   "metadata": {},
   "outputs": [],
   "source": [
    "propertynames(nn)"
   ]
  },
  {
   "cell_type": "code",
   "execution_count": null,
   "metadata": {},
   "outputs": [],
   "source": [
    "propertynames(nn.layers[1])"
   ]
  },
  {
   "cell_type": "code",
   "execution_count": null,
   "metadata": {
    "id": "791JnNXAEpXd",
    "outputId": "ed2acefe-9f54-466e-9bd0-45cf324cc61b"
   },
   "outputs": [],
   "source": [
    "# Callback function to observe training\n",
    "loss_values = Float64[]\n",
    "callback = function (p, l, pred; doplot = false)\n",
    "    println(l)\n",
    "    push!(loss_values, l)\n",
    "    # plot current prediction against data\n",
    "    if doplot\n",
    "        pred_avg = mean(pred, dims=1)\n",
    "        pred_avg = reshape(pred_avg, (3, 21))\n",
    "        #plot the three phases from ode_data_avg and pred_avg\n",
    "        plt = scatter(tsteps, ode_data_avg[1, :], label = \"Phase 1 Data\", color = :blue)\n",
    "        scatter!(plt, tsteps, ode_data_avg[2, :], label = \"Phase 2 Data\", color = :red)\n",
    "        scatter!(plt, tsteps, ode_data_avg[3, :], label = \"Phase 3 Data\", color = :green)\n",
    "        scatter!(plt, tsteps, pred_avg[1, :], label = \"Phase 1 Prediction\", color = :blue, shape = :cross)\n",
    "        scatter!(plt, tsteps, pred_avg[2, :], label = \"Phase 2 Prediction\", color = :red, shape = :cross)\n",
    "        scatter!(plt, tsteps, pred_avg[3, :], label = \"Phase 3 Prediction\", color = :green, shape = :cross)\n",
    "        display(plot(plt))\n",
    "        savefig(plt, \"training_$timestamp.svg\")\n",
    "    end\n",
    "    return false\n",
    "end\n",
    "\n",
    "pinit = ComponentArray(p)\n",
    "\n",
    "callback(pinit, loss_neuralode(pinit)...)"
   ]
  },
  {
   "cell_type": "code",
   "execution_count": null,
   "metadata": {},
   "outputs": [],
   "source": [
    "println(typeof(pinit))"
   ]
  },
  {
   "cell_type": "code",
   "execution_count": null,
   "metadata": {
    "id": "bEE-qEwUEpXd",
    "outputId": "592a8167-407c-4af0-f352-e905953e87ef"
   },
   "outputs": [],
   "source": [
    "# Train using the Adam optimizer\n",
    "adtype = Optimization.AutoFiniteDiff()\n",
    "\n",
    "optf = Optimization.OptimizationFunction((p,_) -> loss_neuralode(p), adtype)\n",
    "optprob = Optimization.OptimizationProblem(optf, pinit)\n",
    "\n",
    "result_neuralode = Optimization.solve(\n",
    "    optprob, OptimizationOptimisers.Adam(0.02); callback = callback, maxiters = 50)\n"
   ]
  },
  {
   "cell_type": "code",
   "execution_count": null,
   "metadata": {},
   "outputs": [],
   "source": [
    "plt = scatter!(loss_values, title=\"Loss Transformation\", xlabel=\"Iteration\", ylabel=\"Loss\")\n",
    "# Generate a unique filename using the current timestamp\n",
    "timestamp = Dates.format(now(), \"yyyy-mm-dd_HH-MM-SS\")\n",
    "filename = \"loss_transformation_$timestamp.svg\"\n",
    "# Save the plot to a file\n",
    "savefig(plt, filename)\n",
    "plt"
   ]
  },
  {
   "cell_type": "code",
   "execution_count": null,
   "metadata": {
    "id": "TGtZxSKaEpXe",
    "outputId": "1e037142-8e1a-4e64-f482-1f23285f0c26"
   },
   "outputs": [],
   "source": [
    "callback(result_neuralode.u, loss_neuralode(result_neuralode.u)...; doplot = true)\n",
    "#scatter!(plt, tsteps, loss_neuralode(result_neuralode.u)[2][1, :]; label = \"prediction\") # hide"
   ]
  },
  {
   "cell_type": "code",
   "execution_count": null,
   "metadata": {},
   "outputs": [],
   "source": [
    "display(predict_neuralode(result_neuralode.u)[:, :, 21])\n",
    "display(ode_data[:, :, 21])"
   ]
  },
  {
   "cell_type": "code",
   "execution_count": null,
   "metadata": {},
   "outputs": [],
   "source": [
    "inputs = [0.1, flow_rate]\n",
    "trained_model = result_neuralode.u\n",
    "output, outst = nn(inputs, trained_model, st)\n",
    "pp_Ea = output[1:Ea_size]\n",
    "p_Ea = zeros(n, n)\n",
    "index = 1\n",
    "for i in 1:n\n",
    "    for j in i+1:n\n",
    "        p_Ea[i, j] = pp_Ea[index]\n",
    "        p_Ea[j, i] = pp_Ea[index]\n",
    "        index += 1\n",
    "    end\n",
    "end\n",
    "# Segregate the output\n",
    "display(p_Ea)\n",
    "display(pe.Ea)\n",
    "p_fcoeff = output[Ea_size+1:Ea_size+fcoeff_size]\n",
    "p_precoeff = output[end]\n",
    "display(p_fcoeff)\n",
    "display(fcoeff)\n",
    "display(p_precoeff)\n"
   ]
  }
 ],
 "metadata": {
  "colab": {
   "provenance": []
  },
  "kernelspec": {
   "display_name": "Julia 1.11.1",
   "language": "julia",
   "name": "julia-1.11"
  },
  "language_info": {
   "file_extension": ".jl",
   "mimetype": "application/julia",
   "name": "julia",
   "version": "1.11.1"
  }
 },
 "nbformat": 4,
 "nbformat_minor": 0
}
